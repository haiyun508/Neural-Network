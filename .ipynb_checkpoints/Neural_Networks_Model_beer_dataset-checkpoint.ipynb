{
 "cells": [
  {
   "cell_type": "code",
   "execution_count": 1,
   "metadata": {
    "colab": {
     "base_uri": "https://localhost:8080/"
    },
    "id": "p8siN0WLHcHz",
    "outputId": "b4f7f1fe-e38e-45ad-d3b2-d2e5f5026188"
   },
   "outputs": [
    {
     "name": "stdout",
     "output_type": "stream",
     "text": [
      "Requirement already satisfied: sklearn in /opt/anaconda3/envs/PythonAdv/lib/python3.6/site-packages (0.0)\n",
      "Requirement already satisfied: scikit-learn in /opt/anaconda3/envs/PythonAdv/lib/python3.6/site-packages (from sklearn) (0.24.2)\n",
      "Requirement already satisfied: numpy>=1.13.3 in /opt/anaconda3/envs/PythonAdv/lib/python3.6/site-packages (from scikit-learn->sklearn) (1.19.2)\n",
      "Requirement already satisfied: scipy>=0.19.1 in /opt/anaconda3/envs/PythonAdv/lib/python3.6/site-packages (from scikit-learn->sklearn) (1.5.2)\n",
      "Requirement already satisfied: threadpoolctl>=2.0.0 in /opt/anaconda3/envs/PythonAdv/lib/python3.6/site-packages (from scikit-learn->sklearn) (2.1.0)\n",
      "Requirement already satisfied: joblib>=0.11 in /opt/anaconda3/envs/PythonAdv/lib/python3.6/site-packages (from scikit-learn->sklearn) (1.0.1)\n"
     ]
    }
   ],
   "source": [
    "# Update sklearn to prevent version mismatches\n",
    "!pip install sklearn --upgrade"
   ]
  },
  {
   "cell_type": "code",
   "execution_count": 2,
   "metadata": {
    "colab": {
     "base_uri": "https://localhost:8080/"
    },
    "id": "KXP7Xbk5HcH1",
    "outputId": "b294deb4-8ad5-4f46-a3b8-62414cd6c706"
   },
   "outputs": [
    {
     "name": "stdout",
     "output_type": "stream",
     "text": [
      "Requirement already satisfied: joblib in /opt/anaconda3/envs/PythonAdv/lib/python3.6/site-packages (1.0.1)\r\n"
     ]
    }
   ],
   "source": [
    "# install joblib. This will be used to save your model. \n",
    "# Restart your kernel after installing \n",
    "!pip install joblib"
   ]
  },
  {
   "cell_type": "code",
   "execution_count": 3,
   "metadata": {
    "id": "BjFpJPhJHcH1"
   },
   "outputs": [],
   "source": [
    "import pandas as pd"
   ]
  },
  {
   "cell_type": "markdown",
   "metadata": {
    "id": "wh4UVnliHcH2"
   },
   "source": [
    "# Read the CSV and Perform Basic Data Cleaning"
   ]
  },
  {
   "cell_type": "code",
   "execution_count": null,
   "metadata": {
    "id": "OuhFOkWqI0Su"
   },
   "outputs": [],
   "source": []
  },
  {
   "cell_type": "code",
   "execution_count": 4,
   "metadata": {
    "colab": {
     "base_uri": "https://localhost:8080/",
     "height": 73,
     "resources": {
      "http://localhost:8080/nbextensions/google.colab/files.js": {
       "data": "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",
       "headers": [
        [
         "content-type",
         "application/javascript"
        ]
       ],
       "ok": true,
       "status": 200,
       "status_text": ""
      }
     }
    },
    "id": "ukNXnJ7vI19R",
    "outputId": "0ee9032d-8c36-4f85-8f0f-008402c1d224"
   },
   "outputs": [],
   "source": [
    "# from google.colab import files\n",
    "# uploaded = files.upload()"
   ]
  },
  {
   "cell_type": "code",
   "execution_count": 5,
   "metadata": {
    "colab": {
     "base_uri": "https://localhost:8080/",
     "height": 486
    },
    "id": "gNLuQESLHcH2",
    "outputId": "3a58baca-84cc-45b4-db2a-9360adf15285"
   },
   "outputs": [
    {
     "data": {
      "text/html": [
       "<div>\n",
       "<style scoped>\n",
       "    .dataframe tbody tr th:only-of-type {\n",
       "        vertical-align: middle;\n",
       "    }\n",
       "\n",
       "    .dataframe tbody tr th {\n",
       "        vertical-align: top;\n",
       "    }\n",
       "\n",
       "    .dataframe thead th {\n",
       "        text-align: right;\n",
       "    }\n",
       "</style>\n",
       "<table border=\"1\" class=\"dataframe\">\n",
       "  <thead>\n",
       "    <tr style=\"text-align: right;\">\n",
       "      <th></th>\n",
       "      <th>Name</th>\n",
       "      <th>key</th>\n",
       "      <th>Style</th>\n",
       "      <th>Style Key</th>\n",
       "      <th>Brewery</th>\n",
       "      <th>Description</th>\n",
       "      <th>ABV</th>\n",
       "      <th>Ave Rating</th>\n",
       "      <th>Min IBU</th>\n",
       "      <th>Max IBU</th>\n",
       "      <th>...</th>\n",
       "      <th>Body</th>\n",
       "      <th>Alcohol</th>\n",
       "      <th>Bitter</th>\n",
       "      <th>Sweet</th>\n",
       "      <th>Sour</th>\n",
       "      <th>Salty</th>\n",
       "      <th>Fruits</th>\n",
       "      <th>Hoppy</th>\n",
       "      <th>Spices</th>\n",
       "      <th>Malty</th>\n",
       "    </tr>\n",
       "  </thead>\n",
       "  <tbody>\n",
       "    <tr>\n",
       "      <th>0</th>\n",
       "      <td>Amber</td>\n",
       "      <td>251</td>\n",
       "      <td>Altbier</td>\n",
       "      <td>8</td>\n",
       "      <td>Alaskan Brewing Co.</td>\n",
       "      <td>Notes:Richly malty and long on the palate, wit...</td>\n",
       "      <td>5.3</td>\n",
       "      <td>3.65</td>\n",
       "      <td>25</td>\n",
       "      <td>50</td>\n",
       "      <td>...</td>\n",
       "      <td>32</td>\n",
       "      <td>9</td>\n",
       "      <td>47</td>\n",
       "      <td>74</td>\n",
       "      <td>33</td>\n",
       "      <td>0</td>\n",
       "      <td>33</td>\n",
       "      <td>57</td>\n",
       "      <td>8</td>\n",
       "      <td>111</td>\n",
       "    </tr>\n",
       "    <tr>\n",
       "      <th>1</th>\n",
       "      <td>Double Bag</td>\n",
       "      <td>252</td>\n",
       "      <td>Altbier</td>\n",
       "      <td>8</td>\n",
       "      <td>Long Trail Brewing Co.</td>\n",
       "      <td>Notes:This malty, full-bodied double alt is al...</td>\n",
       "      <td>7.2</td>\n",
       "      <td>3.90</td>\n",
       "      <td>25</td>\n",
       "      <td>50</td>\n",
       "      <td>...</td>\n",
       "      <td>57</td>\n",
       "      <td>18</td>\n",
       "      <td>33</td>\n",
       "      <td>55</td>\n",
       "      <td>16</td>\n",
       "      <td>0</td>\n",
       "      <td>24</td>\n",
       "      <td>35</td>\n",
       "      <td>12</td>\n",
       "      <td>84</td>\n",
       "    </tr>\n",
       "    <tr>\n",
       "      <th>2</th>\n",
       "      <td>Long Trail Ale</td>\n",
       "      <td>253</td>\n",
       "      <td>Altbier</td>\n",
       "      <td>8</td>\n",
       "      <td>Long Trail Brewing Co.</td>\n",
       "      <td>Notes:Long Trail Ale is a full-bodied amber al...</td>\n",
       "      <td>5.0</td>\n",
       "      <td>3.58</td>\n",
       "      <td>25</td>\n",
       "      <td>50</td>\n",
       "      <td>...</td>\n",
       "      <td>37</td>\n",
       "      <td>6</td>\n",
       "      <td>42</td>\n",
       "      <td>43</td>\n",
       "      <td>11</td>\n",
       "      <td>0</td>\n",
       "      <td>10</td>\n",
       "      <td>54</td>\n",
       "      <td>4</td>\n",
       "      <td>62</td>\n",
       "    </tr>\n",
       "    <tr>\n",
       "      <th>3</th>\n",
       "      <td>Doppelsticke</td>\n",
       "      <td>254</td>\n",
       "      <td>Altbier</td>\n",
       "      <td>8</td>\n",
       "      <td>Uerige Obergärige Hausbrauerei</td>\n",
       "      <td>Notes:</td>\n",
       "      <td>8.5</td>\n",
       "      <td>4.15</td>\n",
       "      <td>25</td>\n",
       "      <td>50</td>\n",
       "      <td>...</td>\n",
       "      <td>55</td>\n",
       "      <td>31</td>\n",
       "      <td>47</td>\n",
       "      <td>101</td>\n",
       "      <td>18</td>\n",
       "      <td>1</td>\n",
       "      <td>49</td>\n",
       "      <td>40</td>\n",
       "      <td>16</td>\n",
       "      <td>119</td>\n",
       "    </tr>\n",
       "    <tr>\n",
       "      <th>4</th>\n",
       "      <td>Scurry</td>\n",
       "      <td>255</td>\n",
       "      <td>Altbier</td>\n",
       "      <td>8</td>\n",
       "      <td>Off Color Brewing</td>\n",
       "      <td>Notes:Just cause it's dark and German doesn't ...</td>\n",
       "      <td>5.3</td>\n",
       "      <td>3.67</td>\n",
       "      <td>25</td>\n",
       "      <td>50</td>\n",
       "      <td>...</td>\n",
       "      <td>69</td>\n",
       "      <td>10</td>\n",
       "      <td>63</td>\n",
       "      <td>120</td>\n",
       "      <td>14</td>\n",
       "      <td>0</td>\n",
       "      <td>19</td>\n",
       "      <td>36</td>\n",
       "      <td>15</td>\n",
       "      <td>218</td>\n",
       "    </tr>\n",
       "  </tbody>\n",
       "</table>\n",
       "<p>5 rows × 21 columns</p>\n",
       "</div>"
      ],
      "text/plain": [
       "             Name  key    Style  Style Key                         Brewery  \\\n",
       "0           Amber  251  Altbier          8             Alaskan Brewing Co.   \n",
       "1      Double Bag  252  Altbier          8          Long Trail Brewing Co.   \n",
       "2  Long Trail Ale  253  Altbier          8          Long Trail Brewing Co.   \n",
       "3    Doppelsticke  254  Altbier          8  Uerige Obergärige Hausbrauerei   \n",
       "4          Scurry  255  Altbier          8               Off Color Brewing   \n",
       "\n",
       "                                         Description  ABV  Ave Rating  \\\n",
       "0  Notes:Richly malty and long on the palate, wit...  5.3        3.65   \n",
       "1  Notes:This malty, full-bodied double alt is al...  7.2        3.90   \n",
       "2  Notes:Long Trail Ale is a full-bodied amber al...  5.0        3.58   \n",
       "3                                             Notes:  8.5        4.15   \n",
       "4  Notes:Just cause it's dark and German doesn't ...  5.3        3.67   \n",
       "\n",
       "   Min IBU  Max IBU  ...  Body  Alcohol  Bitter  Sweet  Sour  Salty  Fruits  \\\n",
       "0       25       50  ...    32        9      47     74    33      0      33   \n",
       "1       25       50  ...    57       18      33     55    16      0      24   \n",
       "2       25       50  ...    37        6      42     43    11      0      10   \n",
       "3       25       50  ...    55       31      47    101    18      1      49   \n",
       "4       25       50  ...    69       10      63    120    14      0      19   \n",
       "\n",
       "   Hoppy  Spices  Malty  \n",
       "0     57       8    111  \n",
       "1     35      12     84  \n",
       "2     54       4     62  \n",
       "3     40      16    119  \n",
       "4     36      15    218  \n",
       "\n",
       "[5 rows x 21 columns]"
      ]
     },
     "execution_count": 5,
     "metadata": {},
     "output_type": "execute_result"
    }
   ],
   "source": [
    "\n",
    "# import io\n",
    "# df = pd.read_csv(io.BytesIO(uploaded['beer_data_set.csv']))\n",
    "df=pd.read_csv('beer_data_set.csv')\n",
    "# Drop the null columns where all values are null\n",
    "df = df.dropna(axis='columns', how='all')\n",
    "# Drop the null rows\n",
    "df = df.dropna()\n",
    "df.head()"
   ]
  },
  {
   "cell_type": "code",
   "execution_count": 6,
   "metadata": {
    "colab": {
     "base_uri": "https://localhost:8080/"
    },
    "id": "SnnP4x6fOkkO",
    "outputId": "0b416597-01b8-4547-b64a-4b329db6ae7b"
   },
   "outputs": [
    {
     "data": {
      "text/plain": [
       "Index(['Name', 'key', 'Style', 'Style Key', 'Brewery', 'Description', 'ABV',\n",
       "       'Ave Rating', 'Min IBU', 'Max IBU', 'Astringency', 'Body', 'Alcohol',\n",
       "       'Bitter', 'Sweet', 'Sour', 'Salty', 'Fruits', 'Hoppy', 'Spices',\n",
       "       'Malty'],\n",
       "      dtype='object')"
      ]
     },
     "execution_count": 6,
     "metadata": {},
     "output_type": "execute_result"
    }
   ],
   "source": [
    "df.columns"
   ]
  },
  {
   "cell_type": "code",
   "execution_count": 7,
   "metadata": {
    "id": "E9_AxWcKHcH3",
    "scrolled": true
   },
   "outputs": [],
   "source": [
    "# df = df.groupby(['beer_name'])\n",
    "# df\n"
   ]
  },
  {
   "cell_type": "code",
   "execution_count": 8,
   "metadata": {
    "id": "EAQ44QHfHcH3"
   },
   "outputs": [],
   "source": [
    "# Name = df['beer_name'].first()\n",
    "# Name"
   ]
  },
  {
   "cell_type": "markdown",
   "metadata": {
    "id": "2yyZZL4RHcH3"
   },
   "source": [
    "# Select your features (columns)"
   ]
  },
  {
   "cell_type": "code",
   "execution_count": 9,
   "metadata": {
    "colab": {
     "base_uri": "https://localhost:8080/"
    },
    "id": "qEGJm8ojHcH3",
    "outputId": "bf26cf41-0a02-4345-ee5e-126f60952fe5"
   },
   "outputs": [
    {
     "name": "stdout",
     "output_type": "stream",
     "text": [
      "(5556, 13) (5556,)\n"
     ]
    }
   ],
   "source": [
    "# Set features. This will also be used as your x values.\n",
    "# selected_features = df[['names', 'of', 'selected', 'features', 'here']]\n",
    "X = df.drop(['Name', 'key', 'Style', 'Style Key', 'Brewery', 'Description','Min IBU', 'Max IBU'],axis=1)\n",
    "y = df['Style']\n",
    "print(X.shape, y.shape)\n"
   ]
  },
  {
   "cell_type": "markdown",
   "metadata": {
    "id": "vPl_6MZTHcH3"
   },
   "source": [
    "# Create a Train Test Split\n",
    "\n"
   ]
  },
  {
   "cell_type": "code",
   "execution_count": 10,
   "metadata": {
    "id": "8-vLBX3fHcH4"
   },
   "outputs": [],
   "source": [
    "from sklearn.model_selection import train_test_split\n",
    "from sklearn.preprocessing import LabelEncoder, MinMaxScaler\n",
    "from tensorflow.keras.utils import to_categorical"
   ]
  },
  {
   "cell_type": "code",
   "execution_count": 11,
   "metadata": {
    "id": "bmMteMIBHcH4"
   },
   "outputs": [],
   "source": [
    "X_train, X_test, y_train, y_test = train_test_split(\n",
    "    X, y, random_state=1)"
   ]
  },
  {
   "cell_type": "markdown",
   "metadata": {
    "id": "VL-aBmZwHcH4"
   },
   "source": [
    "# Pre-processing\n",
    "\n",
    "Scale the data using the MinMaxScaler and perform some feature selection"
   ]
  },
  {
   "cell_type": "code",
   "execution_count": 12,
   "metadata": {
    "id": "OvmANku7HcH5"
   },
   "outputs": [],
   "source": [
    "# Scale your data\n",
    "X_scaler = MinMaxScaler().fit(X_train)\n",
    "X_train_scaled = X_scaler.transform(X_train)\n",
    "X_test_scaled = X_scaler.transform(X_test)"
   ]
  },
  {
   "cell_type": "code",
   "execution_count": 13,
   "metadata": {
    "id": "xgHNXZjOHcH6"
   },
   "outputs": [],
   "source": [
    "# Step 1: Label-encode data set\n",
    "label_encoder = LabelEncoder()\n",
    "label_encoder.fit(y_train)\n",
    "encoded_y_train = label_encoder.transform(y_train)\n",
    "encoded_y_test = label_encoder.transform(y_test)"
   ]
  },
  {
   "cell_type": "code",
   "execution_count": 14,
   "metadata": {
    "id": "4eIlNGu1HcH6"
   },
   "outputs": [],
   "source": [
    "# Step 2: Convert encoded labels to one-hot-encoding\n",
    "y_train_categorical = to_categorical(encoded_y_train)\n",
    "y_test_categorical = to_categorical(encoded_y_test)"
   ]
  },
  {
   "cell_type": "code",
   "execution_count": 15,
   "metadata": {
    "id": "UgE8ljJOHcH7"
   },
   "outputs": [],
   "source": [
    "from tensorflow.keras.models import Sequential\n",
    "from tensorflow.keras.layers import Dense"
   ]
  },
  {
   "cell_type": "code",
   "execution_count": null,
   "metadata": {
    "id": "aro5HLblHcH7"
   },
   "outputs": [],
   "source": [
    "# Create model and add layers\n",
    "model = Sequential()\n",
    "model.add(Dense(units=60, activation='relu', input_dim=13))\n",
    "model.add(Dense(units=60, activation='relu'))\n",
    "model.add(Dense(units=112, activation='softmax'))"
   ]
  },
  {
   "cell_type": "code",
   "execution_count": null,
   "metadata": {
    "id": "aQ2F2bTbHcH7"
   },
   "outputs": [],
   "source": [
    "# Compile and fit the model\n",
    "model.compile(optimizer='adam',\n",
    "              loss='categorical_crossentropy',\n",
    "              metrics=['accuracy'])"
   ]
  },
  {
   "cell_type": "code",
   "execution_count": null,
   "metadata": {
    "colab": {
     "base_uri": "https://localhost:8080/"
    },
    "id": "ekt6radGHcH-",
    "outputId": "2b9ea53f-c555-4b44-bda2-a2016fa7e31a"
   },
   "outputs": [
    {
     "name": "stdout",
     "output_type": "stream",
     "text": [
      "Train on 4167 samples\n",
      "Epoch 1/200\n",
      "4167/4167 - 1s - loss: 1.5089 - accuracy: 0.5383\n",
      "Epoch 2/200\n",
      "4167/4167 - 0s - loss: 1.5119 - accuracy: 0.5380\n",
      "Epoch 3/200\n",
      "4167/4167 - 0s - loss: 1.5024 - accuracy: 0.5383\n",
      "Epoch 4/200\n",
      "4167/4167 - 0s - loss: 1.5019 - accuracy: 0.5426\n",
      "Epoch 5/200\n",
      "4167/4167 - 0s - loss: 1.4900 - accuracy: 0.5404\n",
      "Epoch 6/200\n",
      "4167/4167 - 0s - loss: 1.4888 - accuracy: 0.5397\n",
      "Epoch 7/200\n",
      "4167/4167 - 0s - loss: 1.4862 - accuracy: 0.5390\n",
      "Epoch 8/200\n",
      "4167/4167 - 0s - loss: 1.4772 - accuracy: 0.5438\n",
      "Epoch 9/200\n",
      "4167/4167 - 0s - loss: 1.4792 - accuracy: 0.5474\n",
      "Epoch 10/200\n",
      "4167/4167 - 0s - loss: 1.4679 - accuracy: 0.5433\n",
      "Epoch 11/200\n",
      "4167/4167 - 0s - loss: 1.4645 - accuracy: 0.5520\n",
      "Epoch 12/200\n",
      "4167/4167 - 0s - loss: 1.4616 - accuracy: 0.5421\n",
      "Epoch 13/200\n",
      "4167/4167 - 0s - loss: 1.4532 - accuracy: 0.5558\n",
      "Epoch 14/200\n",
      "4167/4167 - 0s - loss: 1.4523 - accuracy: 0.5491\n",
      "Epoch 15/200\n",
      "4167/4167 - 0s - loss: 1.4501 - accuracy: 0.5606\n",
      "Epoch 16/200\n",
      "4167/4167 - 0s - loss: 1.4501 - accuracy: 0.5527\n",
      "Epoch 17/200\n",
      "4167/4167 - 0s - loss: 1.4391 - accuracy: 0.5560\n",
      "Epoch 18/200\n",
      "4167/4167 - 0s - loss: 1.4277 - accuracy: 0.5584\n",
      "Epoch 19/200\n",
      "4167/4167 - 0s - loss: 1.4296 - accuracy: 0.5522\n",
      "Epoch 20/200\n",
      "4167/4167 - 0s - loss: 1.4204 - accuracy: 0.5565\n",
      "Epoch 21/200\n",
      "4167/4167 - 0s - loss: 1.4258 - accuracy: 0.5632\n",
      "Epoch 22/200\n",
      "4167/4167 - 0s - loss: 1.4130 - accuracy: 0.5647\n",
      "Epoch 23/200\n",
      "4167/4167 - 0s - loss: 1.4119 - accuracy: 0.5625\n",
      "Epoch 24/200\n",
      "4167/4167 - 0s - loss: 1.4136 - accuracy: 0.5560\n",
      "Epoch 25/200\n",
      "4167/4167 - 0s - loss: 1.4071 - accuracy: 0.5630\n",
      "Epoch 26/200\n",
      "4167/4167 - 0s - loss: 1.4040 - accuracy: 0.5640\n",
      "Epoch 27/200\n",
      "4167/4167 - 0s - loss: 1.3960 - accuracy: 0.5613\n",
      "Epoch 28/200\n",
      "4167/4167 - 0s - loss: 1.3983 - accuracy: 0.5582\n",
      "Epoch 29/200\n",
      "4167/4167 - 0s - loss: 1.3928 - accuracy: 0.5620\n",
      "Epoch 30/200\n",
      "4167/4167 - 0s - loss: 1.3836 - accuracy: 0.5690\n",
      "Epoch 31/200\n",
      "4167/4167 - 0s - loss: 1.3812 - accuracy: 0.5661\n",
      "Epoch 32/200\n",
      "4167/4167 - 0s - loss: 1.3760 - accuracy: 0.5714\n",
      "Epoch 33/200\n",
      "4167/4167 - 0s - loss: 1.3765 - accuracy: 0.5685\n",
      "Epoch 34/200\n",
      "4167/4167 - 0s - loss: 1.3762 - accuracy: 0.5740\n",
      "Epoch 35/200\n",
      "4167/4167 - 0s - loss: 1.3750 - accuracy: 0.5683\n",
      "Epoch 36/200\n",
      "4167/4167 - 0s - loss: 1.3597 - accuracy: 0.5714\n",
      "Epoch 37/200\n",
      "4167/4167 - 0s - loss: 1.3592 - accuracy: 0.5743\n",
      "Epoch 38/200\n",
      "4167/4167 - 0s - loss: 1.3597 - accuracy: 0.5695\n",
      "Epoch 39/200\n",
      "4167/4167 - 0s - loss: 1.3565 - accuracy: 0.5774\n",
      "Epoch 40/200\n",
      "4167/4167 - 0s - loss: 1.3525 - accuracy: 0.5755\n",
      "Epoch 41/200\n",
      "4167/4167 - 0s - loss: 1.3410 - accuracy: 0.5810\n",
      "Epoch 42/200\n",
      "4167/4167 - 0s - loss: 1.3326 - accuracy: 0.5796\n",
      "Epoch 43/200\n",
      "4167/4167 - 0s - loss: 1.3365 - accuracy: 0.5788\n",
      "Epoch 44/200\n",
      "4167/4167 - 0s - loss: 1.3257 - accuracy: 0.5853\n",
      "Epoch 45/200\n",
      "4167/4167 - 0s - loss: 1.3307 - accuracy: 0.5808\n",
      "Epoch 46/200\n",
      "4167/4167 - 0s - loss: 1.3247 - accuracy: 0.5820\n",
      "Epoch 47/200\n",
      "4167/4167 - 0s - loss: 1.3234 - accuracy: 0.5820\n",
      "Epoch 48/200\n",
      "4167/4167 - 0s - loss: 1.3212 - accuracy: 0.5882\n",
      "Epoch 49/200\n",
      "4167/4167 - 0s - loss: 1.3160 - accuracy: 0.5853\n",
      "Epoch 50/200\n",
      "4167/4167 - 0s - loss: 1.3122 - accuracy: 0.5851\n",
      "Epoch 51/200\n",
      "4167/4167 - 0s - loss: 1.3149 - accuracy: 0.5908\n",
      "Epoch 52/200\n",
      "4167/4167 - 0s - loss: 1.3104 - accuracy: 0.5839\n",
      "Epoch 53/200\n",
      "4167/4167 - 0s - loss: 1.2984 - accuracy: 0.5875\n",
      "Epoch 54/200\n",
      "4167/4167 - 0s - loss: 1.2987 - accuracy: 0.5894\n",
      "Epoch 55/200\n",
      "4167/4167 - 0s - loss: 1.2973 - accuracy: 0.5911\n",
      "Epoch 56/200\n",
      "4167/4167 - 0s - loss: 1.2971 - accuracy: 0.5904\n",
      "Epoch 57/200\n",
      "4167/4167 - 0s - loss: 1.2920 - accuracy: 0.5899\n",
      "Epoch 58/200\n",
      "4167/4167 - 0s - loss: 1.2875 - accuracy: 0.5908\n",
      "Epoch 59/200\n",
      "4167/4167 - 0s - loss: 1.2802 - accuracy: 0.5880\n",
      "Epoch 60/200\n",
      "4167/4167 - 0s - loss: 1.2828 - accuracy: 0.5952\n",
      "Epoch 61/200\n",
      "4167/4167 - 0s - loss: 1.2743 - accuracy: 0.5944\n",
      "Epoch 62/200\n",
      "4167/4167 - 0s - loss: 1.2690 - accuracy: 0.6014\n",
      "Epoch 63/200\n",
      "4167/4167 - 0s - loss: 1.2641 - accuracy: 0.5973\n",
      "Epoch 64/200\n",
      "4167/4167 - 0s - loss: 1.2683 - accuracy: 0.5961\n",
      "Epoch 65/200\n",
      "4167/4167 - 0s - loss: 1.2672 - accuracy: 0.5983\n",
      "Epoch 66/200\n",
      "4167/4167 - 0s - loss: 1.2646 - accuracy: 0.5997\n",
      "Epoch 67/200\n",
      "4167/4167 - 0s - loss: 1.2513 - accuracy: 0.5983\n",
      "Epoch 68/200\n",
      "4167/4167 - 0s - loss: 1.2509 - accuracy: 0.6052\n",
      "Epoch 69/200\n",
      "4167/4167 - 0s - loss: 1.2496 - accuracy: 0.6067\n",
      "Epoch 70/200\n",
      "4167/4167 - 0s - loss: 1.2467 - accuracy: 0.6031\n",
      "Epoch 71/200\n",
      "4167/4167 - 0s - loss: 1.2481 - accuracy: 0.6026\n",
      "Epoch 72/200\n",
      "4167/4167 - 0s - loss: 1.2425 - accuracy: 0.6074\n",
      "Epoch 73/200\n",
      "4167/4167 - 0s - loss: 1.2396 - accuracy: 0.6043\n",
      "Epoch 74/200\n",
      "4167/4167 - 0s - loss: 1.2289 - accuracy: 0.6062\n",
      "Epoch 75/200\n",
      "4167/4167 - 0s - loss: 1.2326 - accuracy: 0.6110\n",
      "Epoch 76/200\n",
      "4167/4167 - 0s - loss: 1.2297 - accuracy: 0.6079\n",
      "Epoch 77/200\n",
      "4167/4167 - 0s - loss: 1.2336 - accuracy: 0.6057\n",
      "Epoch 78/200\n",
      "4167/4167 - 0s - loss: 1.2221 - accuracy: 0.6134\n",
      "Epoch 79/200\n",
      "4167/4167 - 0s - loss: 1.2171 - accuracy: 0.6194\n",
      "Epoch 80/200\n",
      "4167/4167 - 0s - loss: 1.2121 - accuracy: 0.6156\n",
      "Epoch 81/200\n",
      "4167/4167 - 0s - loss: 1.2126 - accuracy: 0.6139\n",
      "Epoch 82/200\n",
      "4167/4167 - 0s - loss: 1.2110 - accuracy: 0.6146\n",
      "Epoch 83/200\n",
      "4167/4167 - 0s - loss: 1.2097 - accuracy: 0.6124\n",
      "Epoch 84/200\n",
      "4167/4167 - 0s - loss: 1.1995 - accuracy: 0.6163\n",
      "Epoch 85/200\n",
      "4167/4167 - 0s - loss: 1.2002 - accuracy: 0.6139\n",
      "Epoch 86/200\n",
      "4167/4167 - 0s - loss: 1.1983 - accuracy: 0.6146\n",
      "Epoch 87/200\n",
      "4167/4167 - 0s - loss: 1.1966 - accuracy: 0.6144\n",
      "Epoch 88/200\n",
      "4167/4167 - 0s - loss: 1.1856 - accuracy: 0.6235\n",
      "Epoch 89/200\n",
      "4167/4167 - 0s - loss: 1.1901 - accuracy: 0.6192\n",
      "Epoch 90/200\n",
      "4167/4167 - 0s - loss: 1.1819 - accuracy: 0.6225\n",
      "Epoch 91/200\n",
      "4167/4167 - 0s - loss: 1.1850 - accuracy: 0.6216\n",
      "Epoch 92/200\n",
      "4167/4167 - 0s - loss: 1.1804 - accuracy: 0.6225\n",
      "Epoch 93/200\n",
      "4167/4167 - 0s - loss: 1.1732 - accuracy: 0.6314\n",
      "Epoch 94/200\n",
      "4167/4167 - 0s - loss: 1.1751 - accuracy: 0.6180\n",
      "Epoch 95/200\n",
      "4167/4167 - 0s - loss: 1.1711 - accuracy: 0.6259\n",
      "Epoch 96/200\n",
      "4167/4167 - 0s - loss: 1.1664 - accuracy: 0.6232\n",
      "Epoch 97/200\n",
      "4167/4167 - 0s - loss: 1.1641 - accuracy: 0.6292\n",
      "Epoch 98/200\n",
      "4167/4167 - 0s - loss: 1.1612 - accuracy: 0.6302\n",
      "Epoch 99/200\n",
      "4167/4167 - 0s - loss: 1.1576 - accuracy: 0.6323\n",
      "Epoch 100/200\n",
      "4167/4167 - 0s - loss: 1.1559 - accuracy: 0.6280\n",
      "Epoch 101/200\n",
      "4167/4167 - 1s - loss: 1.1542 - accuracy: 0.6273\n",
      "Epoch 102/200\n",
      "4167/4167 - 0s - loss: 1.1464 - accuracy: 0.6316\n",
      "Epoch 103/200\n",
      "4167/4167 - 0s - loss: 1.1491 - accuracy: 0.6326\n",
      "Epoch 104/200\n",
      "4167/4167 - 0s - loss: 1.1450 - accuracy: 0.6403\n",
      "Epoch 105/200\n",
      "4167/4167 - 0s - loss: 1.1356 - accuracy: 0.6424\n",
      "Epoch 106/200\n",
      "4167/4167 - 0s - loss: 1.1479 - accuracy: 0.6323\n",
      "Epoch 107/200\n",
      "4167/4167 - 0s - loss: 1.1357 - accuracy: 0.6347\n",
      "Epoch 108/200\n",
      "4167/4167 - 0s - loss: 1.1341 - accuracy: 0.6376\n",
      "Epoch 109/200\n",
      "4167/4167 - 0s - loss: 1.1326 - accuracy: 0.6316\n",
      "Epoch 110/200\n",
      "4167/4167 - 0s - loss: 1.1283 - accuracy: 0.6434\n",
      "Epoch 111/200\n",
      "4167/4167 - 0s - loss: 1.1315 - accuracy: 0.6359\n",
      "Epoch 112/200\n",
      "4167/4167 - 0s - loss: 1.1200 - accuracy: 0.6415\n",
      "Epoch 113/200\n",
      "4167/4167 - 0s - loss: 1.1237 - accuracy: 0.6429\n",
      "Epoch 114/200\n",
      "4167/4167 - 0s - loss: 1.1125 - accuracy: 0.6470\n",
      "Epoch 115/200\n",
      "4167/4167 - 0s - loss: 1.1159 - accuracy: 0.6371\n",
      "Epoch 116/200\n",
      "4167/4167 - 0s - loss: 1.1113 - accuracy: 0.6463\n",
      "Epoch 117/200\n",
      "4167/4167 - 0s - loss: 1.1048 - accuracy: 0.6424\n",
      "Epoch 118/200\n",
      "4167/4167 - 0s - loss: 1.1046 - accuracy: 0.6455\n",
      "Epoch 119/200\n",
      "4167/4167 - 0s - loss: 1.0989 - accuracy: 0.6458\n",
      "Epoch 120/200\n",
      "4167/4167 - 0s - loss: 1.0976 - accuracy: 0.6489\n",
      "Epoch 121/200\n",
      "4167/4167 - 0s - loss: 1.1082 - accuracy: 0.6374\n",
      "Epoch 122/200\n",
      "4167/4167 - 0s - loss: 1.0931 - accuracy: 0.6489\n",
      "Epoch 123/200\n",
      "4167/4167 - 0s - loss: 1.0965 - accuracy: 0.6400\n",
      "Epoch 124/200\n",
      "4167/4167 - 0s - loss: 1.0901 - accuracy: 0.6484\n",
      "Epoch 125/200\n"
     ]
    }
   ],
   "source": [
    "import numpy as np\n",
    "y_train = np.asarray(y_train)\n",
    "model.fit(\n",
    "    X_train_scaled,\n",
    "    y_train_categorical,\n",
    "    epochs=60,\n",
    "    shuffle=True,\n",
    "    verbose=2\n",
    ")"
   ]
  },
  {
   "cell_type": "code",
   "execution_count": 19,
   "metadata": {
    "colab": {
     "base_uri": "https://localhost:8080/"
    },
    "id": "NbYLSqfLHcH-",
    "outputId": "f0b17f49-62fb-4468-d5da-a9e585f538f1"
   },
   "outputs": [
    {
     "name": "stdout",
     "output_type": "stream",
     "text": [
      "Model: \"sequential\"\n",
      "_________________________________________________________________\n",
      "Layer (type)                 Output Shape              Param #   \n",
      "=================================================================\n",
      "dense (Dense)                (None, 100)               1400      \n",
      "_________________________________________________________________\n",
      "dense_1 (Dense)              (None, 100)               10100     \n",
      "_________________________________________________________________\n",
      "dense_2 (Dense)              (None, 112)               11312     \n",
      "=================================================================\n",
      "Total params: 22,812\n",
      "Trainable params: 22,812\n",
      "Non-trainable params: 0\n",
      "_________________________________________________________________\n"
     ]
    }
   ],
   "source": [
    "model.summary()"
   ]
  },
  {
   "cell_type": "code",
   "execution_count": 20,
   "metadata": {
    "id": "6YNBFMFbHcH_"
   },
   "outputs": [],
   "source": [
    "# Save the model\n",
    "model.save(\"neural_networks_model.h5\")"
   ]
  },
  {
   "cell_type": "code",
   "execution_count": 21,
   "metadata": {
    "id": "bP8FJwjvHcH_"
   },
   "outputs": [],
   "source": [
    "# Load the model\n",
    "from tensorflow.keras.models import load_model\n",
    "model = load_model(\"neural_networks_model.h5\")"
   ]
  },
  {
   "cell_type": "code",
   "execution_count": 22,
   "metadata": {
    "colab": {
     "base_uri": "https://localhost:8080/"
    },
    "id": "M_vGjs2jHcH_",
    "outputId": "d86effe9-f2af-415a-8594-6975b41ee65b"
   },
   "outputs": [
    {
     "name": "stdout",
     "output_type": "stream",
     "text": [
      "1389/1 - 0s - loss: 2.4453 - accuracy: 0.3844\n",
      "Normal Neural Network - Loss: 2.379879891400375, Accuracy: 0.3844492435455322\n"
     ]
    }
   ],
   "source": [
    "# Evaluate our trained model\n",
    "model_loss, model_accuracy = model.evaluate(\n",
    "    X_test_scaled, y_test_categorical, verbose=2)\n",
    "print(\n",
    "    f\"Normal Neural Network - Loss: {model_loss}, Accuracy: {model_accuracy}\")"
   ]
  },
  {
   "cell_type": "code",
   "execution_count": 23,
   "metadata": {
    "colab": {
     "base_uri": "https://localhost:8080/"
    },
    "id": "oEgZk4etHcIA",
    "outputId": "c15942f5-987f-4fe6-b40b-5258334dbd53"
   },
   "outputs": [],
   "source": [
    "# make predictions\n",
    "encoded_predictions = model.predict_classes(X_test_scaled[:10])\n",
    "prediction_labels = label_encoder.inverse_transform(encoded_predictions)"
   ]
  },
  {
   "cell_type": "code",
   "execution_count": 24,
   "metadata": {
    "colab": {
     "base_uri": "https://localhost:8080/"
    },
    "id": "bKSybNmEHcIA",
    "outputId": "019b5b7f-413a-4d7d-d77f-e8463fca2435"
   },
   "outputs": [
    {
     "name": "stdout",
     "output_type": "stream",
     "text": [
      "Predicted classes: ['Wild Ale' 'Sour - Flanders Oud Bruin' 'Wheat Beer - Dunkelweizen'\n",
      " 'Herb and Spice Beer' 'Wild Ale' 'Lager - Japanese Rice' 'Lager - Helles'\n",
      " 'Stout - American Imperial' 'Strong Ale - English' 'Blonde Ale - Belgian']\n",
      "Actual Labels: ['Lambic - Fruit', 'Farmhouse Ale - Bière de Garde', 'Stout - American', 'Gruit / Ancient Herbed Ale', 'Brett Beer', 'Lager - Japanese Rice', 'Lager - Helles', 'Stout - American Imperial', 'Scottish Ale', 'Blonde Ale - Belgian']\n"
     ]
    }
   ],
   "source": [
    "print(f\"Predicted classes: {prediction_labels}\")\n",
    "print(f\"Actual Labels: {list(y_test[:10])}\")"
   ]
  },
  {
   "cell_type": "code",
   "execution_count": null,
   "metadata": {
    "id": "MXtGQ0JvHcIA"
   },
   "outputs": [],
   "source": []
  },
  {
   "cell_type": "code",
   "execution_count": null,
   "metadata": {
    "id": "xteuuckZHcIA"
   },
   "outputs": [],
   "source": []
  }
 ],
 "metadata": {
  "colab": {
   "name": "Neural Networks Model beer dataset.ipynb",
   "provenance": []
  },
  "kernel_info": {
   "name": "dev"
  },
  "kernelspec": {
   "display_name": "Python [conda env:PythonAdv] *",
   "language": "python",
   "name": "conda-env-PythonAdv-py"
  },
  "language_info": {
   "codemirror_mode": {
    "name": "ipython",
    "version": 3
   },
   "file_extension": ".py",
   "mimetype": "text/x-python",
   "name": "python",
   "nbconvert_exporter": "python",
   "pygments_lexer": "ipython3",
   "version": "3.6.13"
  },
  "nteract": {
   "version": "0.12.3"
  }
 },
 "nbformat": 4,
 "nbformat_minor": 1
}
