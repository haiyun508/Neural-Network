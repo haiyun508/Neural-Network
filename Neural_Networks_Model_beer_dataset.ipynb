{
  "nbformat": 4,
  "nbformat_minor": 0,
  "metadata": {
    "kernel_info": {
      "name": "dev"
    },
    "kernelspec": {
      "display_name": "Python [conda env:PythonAdv] *",
      "language": "python",
      "name": "conda-env-PythonAdv-py"
    },
    "language_info": {
      "codemirror_mode": {
        "name": "ipython",
        "version": 3
      },
      "file_extension": ".py",
      "mimetype": "text/x-python",
      "name": "python",
      "nbconvert_exporter": "python",
      "pygments_lexer": "ipython3",
      "version": "3.6.13"
    },
    "nteract": {
      "version": "0.12.3"
    },
    "colab": {
      "name": "Neural Networks Model beer dataset.ipynb",
      "provenance": []
    }
  },
  "cells": [
    {
      "cell_type": "code",
      "metadata": {
        "colab": {
          "base_uri": "https://localhost:8080/"
        },
        "id": "p8siN0WLHcHz",
        "outputId": "b4f7f1fe-e38e-45ad-d3b2-d2e5f5026188"
      },
      "source": [
        "# Update sklearn to prevent version mismatches\n",
        "!pip install sklearn --upgrade"
      ],
      "execution_count": 3,
      "outputs": [
        {
          "output_type": "stream",
          "text": [
            "Requirement already up-to-date: sklearn in /usr/local/lib/python3.7/dist-packages (0.0)\n",
            "Requirement already satisfied, skipping upgrade: scikit-learn in /usr/local/lib/python3.7/dist-packages (from sklearn) (0.22.2.post1)\n",
            "Requirement already satisfied, skipping upgrade: numpy>=1.11.0 in /usr/local/lib/python3.7/dist-packages (from scikit-learn->sklearn) (1.19.5)\n",
            "Requirement already satisfied, skipping upgrade: scipy>=0.17.0 in /usr/local/lib/python3.7/dist-packages (from scikit-learn->sklearn) (1.4.1)\n",
            "Requirement already satisfied, skipping upgrade: joblib>=0.11 in /usr/local/lib/python3.7/dist-packages (from scikit-learn->sklearn) (1.0.1)\n"
          ],
          "name": "stdout"
        }
      ]
    },
    {
      "cell_type": "code",
      "metadata": {
        "colab": {
          "base_uri": "https://localhost:8080/"
        },
        "id": "KXP7Xbk5HcH1",
        "outputId": "b294deb4-8ad5-4f46-a3b8-62414cd6c706"
      },
      "source": [
        "# install joblib. This will be used to save your model. \n",
        "# Restart your kernel after installing \n",
        "!pip install joblib"
      ],
      "execution_count": 4,
      "outputs": [
        {
          "output_type": "stream",
          "text": [
            "Requirement already satisfied: joblib in /usr/local/lib/python3.7/dist-packages (1.0.1)\n"
          ],
          "name": "stdout"
        }
      ]
    },
    {
      "cell_type": "code",
      "metadata": {
        "id": "BjFpJPhJHcH1"
      },
      "source": [
        "import pandas as pd"
      ],
      "execution_count": 36,
      "outputs": []
    },
    {
      "cell_type": "markdown",
      "metadata": {
        "id": "wh4UVnliHcH2"
      },
      "source": [
        "# Read the CSV and Perform Basic Data Cleaning"
      ]
    },
    {
      "cell_type": "code",
      "metadata": {
        "id": "OuhFOkWqI0Su"
      },
      "source": [
        ""
      ],
      "execution_count": null,
      "outputs": []
    },
    {
      "cell_type": "code",
      "metadata": {
        "colab": {
          "resources": {
            "http://localhost:8080/nbextensions/google.colab/files.js": {
              "data": "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",
              "ok": true,
              "headers": [
                [
                  "content-type",
                  "application/javascript"
                ]
              ],
              "status": 200,
              "status_text": ""
            }
          },
          "base_uri": "https://localhost:8080/",
          "height": 73
        },
        "id": "ukNXnJ7vI19R",
        "outputId": "0ee9032d-8c36-4f85-8f0f-008402c1d224"
      },
      "source": [
        "from google.colab import files\n",
        "uploaded = files.upload()"
      ],
      "execution_count": 38,
      "outputs": [
        {
          "output_type": "display_data",
          "data": {
            "text/html": [
              "\n",
              "     <input type=\"file\" id=\"files-dc1bc2af-0784-4ec4-b8be-30d64a784faf\" name=\"files[]\" multiple disabled\n",
              "        style=\"border:none\" />\n",
              "     <output id=\"result-dc1bc2af-0784-4ec4-b8be-30d64a784faf\">\n",
              "      Upload widget is only available when the cell has been executed in the\n",
              "      current browser session. Please rerun this cell to enable.\n",
              "      </output>\n",
              "      <script src=\"/nbextensions/google.colab/files.js\"></script> "
            ],
            "text/plain": [
              "<IPython.core.display.HTML object>"
            ]
          },
          "metadata": {
            "tags": []
          }
        },
        {
          "output_type": "stream",
          "text": [
            "Saving beer_data_set.csv to beer_data_set (1).csv\n"
          ],
          "name": "stdout"
        }
      ]
    },
    {
      "cell_type": "code",
      "metadata": {
        "colab": {
          "base_uri": "https://localhost:8080/",
          "height": 486
        },
        "id": "gNLuQESLHcH2",
        "outputId": "3a58baca-84cc-45b4-db2a-9360adf15285"
      },
      "source": [
        "\n",
        "import io\n",
        "df = pd.read_csv(io.BytesIO(uploaded['beer_data_set.csv']))\n",
        "# Drop the null columns where all values are null\n",
        "df = df.dropna(axis='columns', how='all')\n",
        "# Drop the null rows\n",
        "df = df.dropna()\n",
        "df.head()"
      ],
      "execution_count": 41,
      "outputs": [
        {
          "output_type": "execute_result",
          "data": {
            "text/html": [
              "<div>\n",
              "<style scoped>\n",
              "    .dataframe tbody tr th:only-of-type {\n",
              "        vertical-align: middle;\n",
              "    }\n",
              "\n",
              "    .dataframe tbody tr th {\n",
              "        vertical-align: top;\n",
              "    }\n",
              "\n",
              "    .dataframe thead th {\n",
              "        text-align: right;\n",
              "    }\n",
              "</style>\n",
              "<table border=\"1\" class=\"dataframe\">\n",
              "  <thead>\n",
              "    <tr style=\"text-align: right;\">\n",
              "      <th></th>\n",
              "      <th>Name</th>\n",
              "      <th>key</th>\n",
              "      <th>Style</th>\n",
              "      <th>Style Key</th>\n",
              "      <th>Brewery</th>\n",
              "      <th>Description</th>\n",
              "      <th>ABV</th>\n",
              "      <th>Ave Rating</th>\n",
              "      <th>Min IBU</th>\n",
              "      <th>Max IBU</th>\n",
              "      <th>Astringency</th>\n",
              "      <th>Body</th>\n",
              "      <th>Alcohol</th>\n",
              "      <th>Bitter</th>\n",
              "      <th>Sweet</th>\n",
              "      <th>Sour</th>\n",
              "      <th>Salty</th>\n",
              "      <th>Fruits</th>\n",
              "      <th>Hoppy</th>\n",
              "      <th>Spices</th>\n",
              "      <th>Malty</th>\n",
              "    </tr>\n",
              "  </thead>\n",
              "  <tbody>\n",
              "    <tr>\n",
              "      <th>0</th>\n",
              "      <td>Amber</td>\n",
              "      <td>251</td>\n",
              "      <td>Altbier</td>\n",
              "      <td>8</td>\n",
              "      <td>Alaskan Brewing Co.</td>\n",
              "      <td>Notes:Richly malty and long on the palate, wit...</td>\n",
              "      <td>5.3</td>\n",
              "      <td>3.65</td>\n",
              "      <td>25</td>\n",
              "      <td>50</td>\n",
              "      <td>13</td>\n",
              "      <td>32</td>\n",
              "      <td>9</td>\n",
              "      <td>47</td>\n",
              "      <td>74</td>\n",
              "      <td>33</td>\n",
              "      <td>0</td>\n",
              "      <td>33</td>\n",
              "      <td>57</td>\n",
              "      <td>8</td>\n",
              "      <td>111</td>\n",
              "    </tr>\n",
              "    <tr>\n",
              "      <th>1</th>\n",
              "      <td>Double Bag</td>\n",
              "      <td>252</td>\n",
              "      <td>Altbier</td>\n",
              "      <td>8</td>\n",
              "      <td>Long Trail Brewing Co.</td>\n",
              "      <td>Notes:This malty, full-bodied double alt is al...</td>\n",
              "      <td>7.2</td>\n",
              "      <td>3.90</td>\n",
              "      <td>25</td>\n",
              "      <td>50</td>\n",
              "      <td>12</td>\n",
              "      <td>57</td>\n",
              "      <td>18</td>\n",
              "      <td>33</td>\n",
              "      <td>55</td>\n",
              "      <td>16</td>\n",
              "      <td>0</td>\n",
              "      <td>24</td>\n",
              "      <td>35</td>\n",
              "      <td>12</td>\n",
              "      <td>84</td>\n",
              "    </tr>\n",
              "    <tr>\n",
              "      <th>2</th>\n",
              "      <td>Long Trail Ale</td>\n",
              "      <td>253</td>\n",
              "      <td>Altbier</td>\n",
              "      <td>8</td>\n",
              "      <td>Long Trail Brewing Co.</td>\n",
              "      <td>Notes:Long Trail Ale is a full-bodied amber al...</td>\n",
              "      <td>5.0</td>\n",
              "      <td>3.58</td>\n",
              "      <td>25</td>\n",
              "      <td>50</td>\n",
              "      <td>14</td>\n",
              "      <td>37</td>\n",
              "      <td>6</td>\n",
              "      <td>42</td>\n",
              "      <td>43</td>\n",
              "      <td>11</td>\n",
              "      <td>0</td>\n",
              "      <td>10</td>\n",
              "      <td>54</td>\n",
              "      <td>4</td>\n",
              "      <td>62</td>\n",
              "    </tr>\n",
              "    <tr>\n",
              "      <th>3</th>\n",
              "      <td>Doppelsticke</td>\n",
              "      <td>254</td>\n",
              "      <td>Altbier</td>\n",
              "      <td>8</td>\n",
              "      <td>Uerige Obergärige Hausbrauerei</td>\n",
              "      <td>Notes:</td>\n",
              "      <td>8.5</td>\n",
              "      <td>4.15</td>\n",
              "      <td>25</td>\n",
              "      <td>50</td>\n",
              "      <td>13</td>\n",
              "      <td>55</td>\n",
              "      <td>31</td>\n",
              "      <td>47</td>\n",
              "      <td>101</td>\n",
              "      <td>18</td>\n",
              "      <td>1</td>\n",
              "      <td>49</td>\n",
              "      <td>40</td>\n",
              "      <td>16</td>\n",
              "      <td>119</td>\n",
              "    </tr>\n",
              "    <tr>\n",
              "      <th>4</th>\n",
              "      <td>Scurry</td>\n",
              "      <td>255</td>\n",
              "      <td>Altbier</td>\n",
              "      <td>8</td>\n",
              "      <td>Off Color Brewing</td>\n",
              "      <td>Notes:Just cause it's dark and German doesn't ...</td>\n",
              "      <td>5.3</td>\n",
              "      <td>3.67</td>\n",
              "      <td>25</td>\n",
              "      <td>50</td>\n",
              "      <td>21</td>\n",
              "      <td>69</td>\n",
              "      <td>10</td>\n",
              "      <td>63</td>\n",
              "      <td>120</td>\n",
              "      <td>14</td>\n",
              "      <td>0</td>\n",
              "      <td>19</td>\n",
              "      <td>36</td>\n",
              "      <td>15</td>\n",
              "      <td>218</td>\n",
              "    </tr>\n",
              "  </tbody>\n",
              "</table>\n",
              "</div>"
            ],
            "text/plain": [
              "             Name  key    Style  Style Key  ... Fruits Hoppy  Spices  Malty\n",
              "0           Amber  251  Altbier          8  ...     33    57       8    111\n",
              "1      Double Bag  252  Altbier          8  ...     24    35      12     84\n",
              "2  Long Trail Ale  253  Altbier          8  ...     10    54       4     62\n",
              "3    Doppelsticke  254  Altbier          8  ...     49    40      16    119\n",
              "4          Scurry  255  Altbier          8  ...     19    36      15    218\n",
              "\n",
              "[5 rows x 21 columns]"
            ]
          },
          "metadata": {
            "tags": []
          },
          "execution_count": 41
        }
      ]
    },
    {
      "cell_type": "code",
      "metadata": {
        "colab": {
          "base_uri": "https://localhost:8080/"
        },
        "id": "SnnP4x6fOkkO",
        "outputId": "0b416597-01b8-4547-b64a-4b329db6ae7b"
      },
      "source": [
        "df.columns"
      ],
      "execution_count": 42,
      "outputs": [
        {
          "output_type": "execute_result",
          "data": {
            "text/plain": [
              "Index(['Name', 'key', 'Style', 'Style Key', 'Brewery', 'Description', 'ABV',\n",
              "       'Ave Rating', 'Min IBU', 'Max IBU', 'Astringency', 'Body', 'Alcohol',\n",
              "       'Bitter', 'Sweet', 'Sour', 'Salty', 'Fruits', 'Hoppy', 'Spices',\n",
              "       'Malty'],\n",
              "      dtype='object')"
            ]
          },
          "metadata": {
            "tags": []
          },
          "execution_count": 42
        }
      ]
    },
    {
      "cell_type": "code",
      "metadata": {
        "scrolled": true,
        "id": "E9_AxWcKHcH3"
      },
      "source": [
        "# df = df.groupby(['beer_name'])\n",
        "# df\n"
      ],
      "execution_count": 43,
      "outputs": []
    },
    {
      "cell_type": "code",
      "metadata": {
        "id": "EAQ44QHfHcH3"
      },
      "source": [
        "# Name = df['beer_name'].first()\n",
        "# Name"
      ],
      "execution_count": 44,
      "outputs": []
    },
    {
      "cell_type": "markdown",
      "metadata": {
        "id": "2yyZZL4RHcH3"
      },
      "source": [
        "# Select your features (columns)"
      ]
    },
    {
      "cell_type": "code",
      "metadata": {
        "colab": {
          "base_uri": "https://localhost:8080/"
        },
        "id": "qEGJm8ojHcH3",
        "outputId": "bf26cf41-0a02-4345-ee5e-126f60952fe5"
      },
      "source": [
        "# Set features. This will also be used as your x values.\n",
        "# selected_features = df[['names', 'of', 'selected', 'features', 'here']]\n",
        "X = df.drop(['Name', 'key', 'Style', 'Style Key', 'Brewery', 'Description'],axis=1)\n",
        "y = df['Style']\n",
        "print(X.shape, y.shape)\n"
      ],
      "execution_count": 71,
      "outputs": [
        {
          "output_type": "stream",
          "text": [
            "(5556, 15) (5556,)\n"
          ],
          "name": "stdout"
        }
      ]
    },
    {
      "cell_type": "markdown",
      "metadata": {
        "id": "vPl_6MZTHcH3"
      },
      "source": [
        "# Create a Train Test Split\n",
        "\n"
      ]
    },
    {
      "cell_type": "code",
      "metadata": {
        "id": "8-vLBX3fHcH4"
      },
      "source": [
        "from sklearn.model_selection import train_test_split\n",
        "from sklearn.preprocessing import LabelEncoder, MinMaxScaler\n",
        "from tensorflow.keras.utils import to_categorical"
      ],
      "execution_count": 72,
      "outputs": []
    },
    {
      "cell_type": "code",
      "metadata": {
        "id": "bmMteMIBHcH4"
      },
      "source": [
        "X_train, X_test, y_train, y_test = train_test_split(\n",
        "    X, y, random_state=1)"
      ],
      "execution_count": 73,
      "outputs": []
    },
    {
      "cell_type": "markdown",
      "metadata": {
        "id": "VL-aBmZwHcH4"
      },
      "source": [
        "# Pre-processing\n",
        "\n",
        "Scale the data using the MinMaxScaler and perform some feature selection"
      ]
    },
    {
      "cell_type": "code",
      "metadata": {
        "id": "OvmANku7HcH5"
      },
      "source": [
        "# Scale your data\n",
        "X_scaler = MinMaxScaler().fit(X_train)\n",
        "X_train_scaled = X_scaler.transform(X_train)\n",
        "X_test_scaled = X_scaler.transform(X_test)"
      ],
      "execution_count": 74,
      "outputs": []
    },
    {
      "cell_type": "code",
      "metadata": {
        "id": "xgHNXZjOHcH6"
      },
      "source": [
        "# Step 1: Label-encode data set\n",
        "label_encoder = LabelEncoder()\n",
        "label_encoder.fit(y_train)\n",
        "encoded_y_train = label_encoder.transform(y_train)\n",
        "encoded_y_test = label_encoder.transform(y_test)"
      ],
      "execution_count": 75,
      "outputs": []
    },
    {
      "cell_type": "code",
      "metadata": {
        "id": "4eIlNGu1HcH6"
      },
      "source": [
        "# Step 2: Convert encoded labels to one-hot-encoding\n",
        "y_train_categorical = to_categorical(encoded_y_train)\n",
        "y_test_categorical = to_categorical(encoded_y_test)"
      ],
      "execution_count": 76,
      "outputs": []
    },
    {
      "cell_type": "code",
      "metadata": {
        "id": "UgE8ljJOHcH7"
      },
      "source": [
        "from tensorflow.keras.models import Sequential\n",
        "from tensorflow.keras.layers import Dense"
      ],
      "execution_count": 77,
      "outputs": []
    },
    {
      "cell_type": "code",
      "metadata": {
        "id": "aro5HLblHcH7"
      },
      "source": [
        "# Create model and add layers\n",
        "model = Sequential()\n",
        "model.add(Dense(units=100, activation='relu', input_dim=15))\n",
        "model.add(Dense(units=100, activation='relu'))\n",
        "model.add(Dense(units=112, activation='softmax'))"
      ],
      "execution_count": 82,
      "outputs": []
    },
    {
      "cell_type": "code",
      "metadata": {
        "id": "aQ2F2bTbHcH7"
      },
      "source": [
        "# Compile and fit the model\n",
        "model.compile(optimizer='adam',\n",
        "              loss='categorical_crossentropy',\n",
        "              metrics=['accuracy'])"
      ],
      "execution_count": 83,
      "outputs": []
    },
    {
      "cell_type": "code",
      "metadata": {
        "colab": {
          "base_uri": "https://localhost:8080/"
        },
        "id": "ekt6radGHcH-",
        "outputId": "2b9ea53f-c555-4b44-bda2-a2016fa7e31a"
      },
      "source": [
        "import numpy as np\n",
        "y_train = np.asarray(y_train)\n",
        "model.fit(\n",
        "    X_train_scaled,\n",
        "    y_train_categorical,\n",
        "    epochs=100,\n",
        "    shuffle=True,\n",
        "    verbose=2\n",
        ")"
      ],
      "execution_count": 84,
      "outputs": [
        {
          "output_type": "stream",
          "text": [
            "Epoch 1/100\n",
            "131/131 - 1s - loss: 4.5557 - accuracy: 0.0398\n",
            "Epoch 2/100\n",
            "131/131 - 0s - loss: 3.5684 - accuracy: 0.1560\n",
            "Epoch 3/100\n",
            "131/131 - 0s - loss: 2.7187 - accuracy: 0.3026\n",
            "Epoch 4/100\n",
            "131/131 - 0s - loss: 2.3045 - accuracy: 0.3837\n",
            "Epoch 5/100\n",
            "131/131 - 0s - loss: 2.0428 - accuracy: 0.4341\n",
            "Epoch 6/100\n",
            "131/131 - 0s - loss: 1.8525 - accuracy: 0.4795\n",
            "Epoch 7/100\n",
            "131/131 - 0s - loss: 1.7035 - accuracy: 0.5128\n",
            "Epoch 8/100\n",
            "131/131 - 0s - loss: 1.5653 - accuracy: 0.5515\n",
            "Epoch 9/100\n",
            "131/131 - 0s - loss: 1.4562 - accuracy: 0.5846\n",
            "Epoch 10/100\n",
            "131/131 - 0s - loss: 1.3603 - accuracy: 0.6002\n",
            "Epoch 11/100\n",
            "131/131 - 0s - loss: 1.2688 - accuracy: 0.6359\n",
            "Epoch 12/100\n",
            "131/131 - 0s - loss: 1.2046 - accuracy: 0.6422\n",
            "Epoch 13/100\n",
            "131/131 - 0s - loss: 1.1363 - accuracy: 0.6652\n",
            "Epoch 14/100\n",
            "131/131 - 0s - loss: 1.0743 - accuracy: 0.6823\n",
            "Epoch 15/100\n",
            "131/131 - 0s - loss: 1.0110 - accuracy: 0.7082\n",
            "Epoch 16/100\n",
            "131/131 - 0s - loss: 0.9640 - accuracy: 0.7221\n",
            "Epoch 17/100\n",
            "131/131 - 0s - loss: 0.9232 - accuracy: 0.7298\n",
            "Epoch 18/100\n",
            "131/131 - 0s - loss: 0.8840 - accuracy: 0.7420\n",
            "Epoch 19/100\n",
            "131/131 - 0s - loss: 0.8512 - accuracy: 0.7444\n",
            "Epoch 20/100\n",
            "131/131 - 0s - loss: 0.8148 - accuracy: 0.7588\n",
            "Epoch 21/100\n",
            "131/131 - 0s - loss: 0.7771 - accuracy: 0.7694\n",
            "Epoch 22/100\n",
            "131/131 - 0s - loss: 0.7478 - accuracy: 0.7780\n",
            "Epoch 23/100\n",
            "131/131 - 0s - loss: 0.7182 - accuracy: 0.7855\n",
            "Epoch 24/100\n",
            "131/131 - 0s - loss: 0.7027 - accuracy: 0.7876\n",
            "Epoch 25/100\n",
            "131/131 - 0s - loss: 0.6834 - accuracy: 0.7907\n",
            "Epoch 26/100\n",
            "131/131 - 0s - loss: 0.6562 - accuracy: 0.7931\n",
            "Epoch 27/100\n",
            "131/131 - 0s - loss: 0.6424 - accuracy: 0.8035\n",
            "Epoch 28/100\n",
            "131/131 - 0s - loss: 0.6326 - accuracy: 0.7958\n",
            "Epoch 29/100\n",
            "131/131 - 0s - loss: 0.6105 - accuracy: 0.8075\n",
            "Epoch 30/100\n",
            "131/131 - 0s - loss: 0.6009 - accuracy: 0.8061\n",
            "Epoch 31/100\n",
            "131/131 - 0s - loss: 0.5845 - accuracy: 0.8169\n",
            "Epoch 32/100\n",
            "131/131 - 0s - loss: 0.5786 - accuracy: 0.8092\n",
            "Epoch 33/100\n",
            "131/131 - 0s - loss: 0.5683 - accuracy: 0.8143\n",
            "Epoch 34/100\n",
            "131/131 - 0s - loss: 0.5584 - accuracy: 0.8155\n",
            "Epoch 35/100\n",
            "131/131 - 0s - loss: 0.5308 - accuracy: 0.8291\n",
            "Epoch 36/100\n",
            "131/131 - 0s - loss: 0.5253 - accuracy: 0.8279\n",
            "Epoch 37/100\n",
            "131/131 - 0s - loss: 0.5124 - accuracy: 0.8291\n",
            "Epoch 38/100\n",
            "131/131 - 0s - loss: 0.5103 - accuracy: 0.8306\n",
            "Epoch 39/100\n",
            "131/131 - 0s - loss: 0.4944 - accuracy: 0.8359\n",
            "Epoch 40/100\n",
            "131/131 - 0s - loss: 0.4864 - accuracy: 0.8390\n",
            "Epoch 41/100\n",
            "131/131 - 0s - loss: 0.4863 - accuracy: 0.8330\n",
            "Epoch 42/100\n",
            "131/131 - 0s - loss: 0.4752 - accuracy: 0.8404\n",
            "Epoch 43/100\n",
            "131/131 - 0s - loss: 0.4750 - accuracy: 0.8387\n",
            "Epoch 44/100\n",
            "131/131 - 0s - loss: 0.4641 - accuracy: 0.8445\n",
            "Epoch 45/100\n",
            "131/131 - 0s - loss: 0.4632 - accuracy: 0.8440\n",
            "Epoch 46/100\n",
            "131/131 - 0s - loss: 0.4490 - accuracy: 0.8462\n",
            "Epoch 47/100\n",
            "131/131 - 0s - loss: 0.4414 - accuracy: 0.8517\n",
            "Epoch 48/100\n",
            "131/131 - 0s - loss: 0.4370 - accuracy: 0.8483\n",
            "Epoch 49/100\n",
            "131/131 - 0s - loss: 0.4372 - accuracy: 0.8479\n",
            "Epoch 50/100\n",
            "131/131 - 0s - loss: 0.4219 - accuracy: 0.8594\n",
            "Epoch 51/100\n",
            "131/131 - 0s - loss: 0.4190 - accuracy: 0.8529\n",
            "Epoch 52/100\n",
            "131/131 - 0s - loss: 0.4181 - accuracy: 0.8555\n",
            "Epoch 53/100\n",
            "131/131 - 0s - loss: 0.4082 - accuracy: 0.8601\n",
            "Epoch 54/100\n",
            "131/131 - 0s - loss: 0.4075 - accuracy: 0.8594\n",
            "Epoch 55/100\n",
            "131/131 - 0s - loss: 0.4138 - accuracy: 0.8529\n",
            "Epoch 56/100\n",
            "131/131 - 0s - loss: 0.4127 - accuracy: 0.8553\n",
            "Epoch 57/100\n",
            "131/131 - 0s - loss: 0.3972 - accuracy: 0.8563\n",
            "Epoch 58/100\n",
            "131/131 - 0s - loss: 0.3997 - accuracy: 0.8603\n",
            "Epoch 59/100\n",
            "131/131 - 0s - loss: 0.3789 - accuracy: 0.8654\n",
            "Epoch 60/100\n",
            "131/131 - 0s - loss: 0.3834 - accuracy: 0.8678\n",
            "Epoch 61/100\n",
            "131/131 - 0s - loss: 0.3810 - accuracy: 0.8635\n",
            "Epoch 62/100\n",
            "131/131 - 0s - loss: 0.3776 - accuracy: 0.8711\n",
            "Epoch 63/100\n",
            "131/131 - 0s - loss: 0.3729 - accuracy: 0.8707\n",
            "Epoch 64/100\n",
            "131/131 - 0s - loss: 0.3781 - accuracy: 0.8685\n",
            "Epoch 65/100\n",
            "131/131 - 0s - loss: 0.3699 - accuracy: 0.8647\n",
            "Epoch 66/100\n",
            "131/131 - 0s - loss: 0.3734 - accuracy: 0.8675\n",
            "Epoch 67/100\n",
            "131/131 - 0s - loss: 0.3674 - accuracy: 0.8637\n",
            "Epoch 68/100\n",
            "131/131 - 0s - loss: 0.3587 - accuracy: 0.8723\n",
            "Epoch 69/100\n",
            "131/131 - 0s - loss: 0.3643 - accuracy: 0.8654\n",
            "Epoch 70/100\n",
            "131/131 - 0s - loss: 0.3546 - accuracy: 0.8723\n",
            "Epoch 71/100\n",
            "131/131 - 0s - loss: 0.3483 - accuracy: 0.8743\n",
            "Epoch 72/100\n",
            "131/131 - 0s - loss: 0.3467 - accuracy: 0.8716\n",
            "Epoch 73/100\n",
            "131/131 - 0s - loss: 0.3487 - accuracy: 0.8723\n",
            "Epoch 74/100\n",
            "131/131 - 0s - loss: 0.3418 - accuracy: 0.8740\n",
            "Epoch 75/100\n",
            "131/131 - 0s - loss: 0.3462 - accuracy: 0.8764\n",
            "Epoch 76/100\n",
            "131/131 - 0s - loss: 0.3407 - accuracy: 0.8776\n",
            "Epoch 77/100\n",
            "131/131 - 0s - loss: 0.3365 - accuracy: 0.8812\n",
            "Epoch 78/100\n",
            "131/131 - 0s - loss: 0.3445 - accuracy: 0.8714\n",
            "Epoch 79/100\n",
            "131/131 - 0s - loss: 0.3403 - accuracy: 0.8771\n",
            "Epoch 80/100\n",
            "131/131 - 0s - loss: 0.3350 - accuracy: 0.8798\n",
            "Epoch 81/100\n",
            "131/131 - 0s - loss: 0.3269 - accuracy: 0.8786\n",
            "Epoch 82/100\n",
            "131/131 - 0s - loss: 0.3237 - accuracy: 0.8776\n",
            "Epoch 83/100\n",
            "131/131 - 0s - loss: 0.3248 - accuracy: 0.8786\n",
            "Epoch 84/100\n",
            "131/131 - 0s - loss: 0.3245 - accuracy: 0.8838\n",
            "Epoch 85/100\n",
            "131/131 - 0s - loss: 0.3280 - accuracy: 0.8766\n",
            "Epoch 86/100\n",
            "131/131 - 0s - loss: 0.3171 - accuracy: 0.8901\n",
            "Epoch 87/100\n",
            "131/131 - 0s - loss: 0.3190 - accuracy: 0.8817\n",
            "Epoch 88/100\n",
            "131/131 - 0s - loss: 0.3189 - accuracy: 0.8795\n",
            "Epoch 89/100\n",
            "131/131 - 0s - loss: 0.3180 - accuracy: 0.8846\n",
            "Epoch 90/100\n",
            "131/131 - 0s - loss: 0.3128 - accuracy: 0.8834\n",
            "Epoch 91/100\n",
            "131/131 - 0s - loss: 0.3081 - accuracy: 0.8862\n",
            "Epoch 92/100\n",
            "131/131 - 0s - loss: 0.3028 - accuracy: 0.8915\n",
            "Epoch 93/100\n",
            "131/131 - 0s - loss: 0.3059 - accuracy: 0.8858\n",
            "Epoch 94/100\n",
            "131/131 - 0s - loss: 0.3007 - accuracy: 0.8891\n",
            "Epoch 95/100\n",
            "131/131 - 0s - loss: 0.3073 - accuracy: 0.8853\n",
            "Epoch 96/100\n",
            "131/131 - 0s - loss: 0.3149 - accuracy: 0.8862\n",
            "Epoch 97/100\n",
            "131/131 - 0s - loss: 0.3026 - accuracy: 0.8879\n",
            "Epoch 98/100\n",
            "131/131 - 0s - loss: 0.2955 - accuracy: 0.8886\n",
            "Epoch 99/100\n",
            "131/131 - 0s - loss: 0.2948 - accuracy: 0.8891\n",
            "Epoch 100/100\n",
            "131/131 - 0s - loss: 0.2992 - accuracy: 0.8867\n"
          ],
          "name": "stdout"
        },
        {
          "output_type": "execute_result",
          "data": {
            "text/plain": [
              "<tensorflow.python.keras.callbacks.History at 0x7fc3a772ee50>"
            ]
          },
          "metadata": {
            "tags": []
          },
          "execution_count": 84
        }
      ]
    },
    {
      "cell_type": "code",
      "metadata": {
        "colab": {
          "base_uri": "https://localhost:8080/"
        },
        "id": "NbYLSqfLHcH-",
        "outputId": "f0b17f49-62fb-4468-d5da-a9e585f538f1"
      },
      "source": [
        "model.summary()"
      ],
      "execution_count": 85,
      "outputs": [
        {
          "output_type": "stream",
          "text": [
            "Model: \"sequential_5\"\n",
            "_________________________________________________________________\n",
            "Layer (type)                 Output Shape              Param #   \n",
            "=================================================================\n",
            "dense_15 (Dense)             (None, 100)               1600      \n",
            "_________________________________________________________________\n",
            "dense_16 (Dense)             (None, 100)               10100     \n",
            "_________________________________________________________________\n",
            "dense_17 (Dense)             (None, 112)               11312     \n",
            "=================================================================\n",
            "Total params: 23,012\n",
            "Trainable params: 23,012\n",
            "Non-trainable params: 0\n",
            "_________________________________________________________________\n"
          ],
          "name": "stdout"
        }
      ]
    },
    {
      "cell_type": "code",
      "metadata": {
        "id": "6YNBFMFbHcH_"
      },
      "source": [
        "# Save the model\n",
        "model.save(\"neural_networks_model.h5\")"
      ],
      "execution_count": 86,
      "outputs": []
    },
    {
      "cell_type": "code",
      "metadata": {
        "id": "bP8FJwjvHcH_"
      },
      "source": [
        "# Load the model\n",
        "from tensorflow.keras.models import load_model\n",
        "model = load_model(\"neural_networks_model.h5\")"
      ],
      "execution_count": 87,
      "outputs": []
    },
    {
      "cell_type": "code",
      "metadata": {
        "colab": {
          "base_uri": "https://localhost:8080/"
        },
        "id": "M_vGjs2jHcH_",
        "outputId": "d86effe9-f2af-415a-8594-6975b41ee65b"
      },
      "source": [
        "# Evaluate our trained model\n",
        "model_loss, model_accuracy = model.evaluate(\n",
        "    X_test_scaled, y_test_categorical, verbose=2)\n",
        "print(\n",
        "    f\"Normal Neural Network - Loss: {model_loss}, Accuracy: {model_accuracy}\")"
      ],
      "execution_count": 88,
      "outputs": [
        {
          "output_type": "stream",
          "text": [
            "44/44 - 0s - loss: 0.6108 - accuracy: 0.8186\n",
            "Normal Neural Network - Loss: 0.6107589602470398, Accuracy: 0.8185744881629944\n"
          ],
          "name": "stdout"
        }
      ]
    },
    {
      "cell_type": "code",
      "metadata": {
        "colab": {
          "base_uri": "https://localhost:8080/"
        },
        "id": "oEgZk4etHcIA",
        "outputId": "c15942f5-987f-4fe6-b40b-5258334dbd53"
      },
      "source": [
        "# make predictions\n",
        "encoded_predictions = model.predict_classes(X_test_scaled[:10])\n",
        "prediction_labels = label_encoder.inverse_transform(encoded_predictions)"
      ],
      "execution_count": 89,
      "outputs": [
        {
          "output_type": "stream",
          "text": [
            "/usr/local/lib/python3.7/dist-packages/tensorflow/python/keras/engine/sequential.py:455: UserWarning: `model.predict_classes()` is deprecated and will be removed after 2021-01-01. Please use instead:* `np.argmax(model.predict(x), axis=-1)`,   if your model does multi-class classification   (e.g. if it uses a `softmax` last-layer activation).* `(model.predict(x) > 0.5).astype(\"int32\")`,   if your model does binary classification   (e.g. if it uses a `sigmoid` last-layer activation).\n",
            "  warnings.warn('`model.predict_classes()` is deprecated and '\n"
          ],
          "name": "stderr"
        }
      ]
    },
    {
      "cell_type": "code",
      "metadata": {
        "colab": {
          "base_uri": "https://localhost:8080/"
        },
        "id": "bKSybNmEHcIA",
        "outputId": "019b5b7f-413a-4d7d-d77f-e8463fca2435"
      },
      "source": [
        "print(f\"Predicted classes: {prediction_labels}\")\n",
        "print(f\"Actual Labels: {list(y_test[:10])}\")"
      ],
      "execution_count": 90,
      "outputs": [
        {
          "output_type": "stream",
          "text": [
            "Predicted classes: ['Lambic - Fruit' 'Farmhouse Ale - Bière de Garde' 'Stout - American'\n",
            " 'Farmhouse Ale - Sahti' 'Brett Beer' 'Lager - Japanese Rice'\n",
            " 'Lager - Helles' 'Stout - American Imperial' 'Scottish Ale'\n",
            " 'Blonde Ale - Belgian']\n",
            "Actual Labels: ['Lambic - Fruit', 'Farmhouse Ale - Bière de Garde', 'Stout - American', 'Gruit / Ancient Herbed Ale', 'Brett Beer', 'Lager - Japanese Rice', 'Lager - Helles', 'Stout - American Imperial', 'Scottish Ale', 'Blonde Ale - Belgian']\n"
          ],
          "name": "stdout"
        }
      ]
    },
    {
      "cell_type": "code",
      "metadata": {
        "id": "MXtGQ0JvHcIA"
      },
      "source": [
        ""
      ],
      "execution_count": 90,
      "outputs": []
    },
    {
      "cell_type": "code",
      "metadata": {
        "id": "xteuuckZHcIA"
      },
      "source": [
        ""
      ],
      "execution_count": 90,
      "outputs": []
    }
  ]
}